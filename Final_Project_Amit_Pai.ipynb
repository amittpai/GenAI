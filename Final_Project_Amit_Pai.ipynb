{
  "cells": [
    {
      "cell_type": "markdown",
      "metadata": {
        "id": "view-in-github",
        "colab_type": "text"
      },
      "source": [
        "<a href=\"https://colab.research.google.com/github/amittpai/GenAI/blob/main/Final_Project_Amit_Pai.ipynb\" target=\"_parent\"><img src=\"https://colab.research.google.com/assets/colab-badge.svg\" alt=\"Open In Colab\"/></a>"
      ]
    },
    {
      "cell_type": "markdown",
      "source": [
        "# **Project : A Case Study of InnovaTech Solutions**"
      ],
      "metadata": {
        "nteract": {
          "transient": {
            "deleting": false
          }
        },
        "id": "LLABS66aj80S"
      }
    },
    {
      "cell_type": "markdown",
      "source": [
        "**Business Overview:**\n",
        "\n",
        "InnovaTech Solutions, a dynamic and forward-thinking technology company, has made significant strides in the computing industry with a focus on developing high-quality laptops. Established over a decade ago, InnovaTech has gained a reputation for its innovative approach and commitment to customer satisfaction, creating a significant footprint in both physical and online retail spaces.\n",
        "InnovaTech has expanded its presence in the digital retail world, especially on e-commerce giants like Amazon. This strategic move has not only widened its customer base but also resulted in a large influx of customer feedback, primarily in the form of online reviews. The company's products, notably its range of laptops, have become popular choices on these platforms, leading to an abundance of valuable but underutilized customer data."
      ],
      "metadata": {
        "nteract": {
          "transient": {
            "deleting": false
          }
        },
        "id": "gssc2fMxj80U"
      }
    },
    {
      "cell_type": "markdown",
      "source": [
        "**Current Challenge:**\n",
        "\n",
        "InnovaTech currently analyzes customer reviews using basic sentiment analysis tools, which only provide a superficial understanding of customer opinions. In the competitive landscape of the laptop market, a more detailed and aspect-oriented analysis is crucial. Understanding specific customer sentiments on different aspects of laptops, such as user screen, technical specifications, etc, which is vital for targeted product improvements."
      ],
      "metadata": {
        "nteract": {
          "transient": {
            "deleting": false
          }
        },
        "id": "kQU8tzodj80W"
      }
    },
    {
      "cell_type": "markdown",
      "source": [
        "**Objective:**\n",
        "\n",
        "The primary goal is to conduct a comprehensive aspect-based sentiment analysis of customer reviews for InnovaTech’s laptops, specifically focusing on three critical aspects: the laptop screen, keyboard, and mousepad. These components have been identified as crucial determinants of customer satisfaction and product usability. Project aims to provide nuanced insights into specific areas of customer satisfaction, dissatisfaction, and neutral feedback.The ultimate goal is to enhance overall product quality and customer experience, solidifying InnovaTech's position as a leader in the laptop market.\n",
        "\n"
      ],
      "metadata": {
        "nteract": {
          "transient": {
            "deleting": false
          }
        },
        "id": "NVYOSKL8j80X"
      }
    },
    {
      "cell_type": "markdown",
      "source": [
        "**Data Description:**\n",
        "\n",
        "The dataset titled \"laptop_reviews.csv\" is structured to facilitate aspect-based sentiment analysis for laptop reviews. Here's a brief description of the data columns:\n",
        "\n",
        "1. id: This column contains unique identifiers for each review entry. It helps in distinguishing and referencing individual reviews\n",
        "2. text: This column includes the actual text of the laptop reviews. The reviews are likely composed of customer opinions and experiences regarding different aspects of the laptops.\n",
        "3. aspects:Contains structured information about specific aspects mentioned in each review like 'RAM', 'screen', 'keyboard', 'mousepad', and others relevant to laptop features.\n",
        "4. category:Provide an additional layer of classification (positive, negative and neutral) for the mentioned aspects."
      ],
      "metadata": {
        "nteract": {
          "transient": {
            "deleting": false
          }
        },
        "id": "npQ64kVtj80Y"
      }
    },
    {
      "cell_type": "markdown",
      "source": [
        "# 1. Setup"
      ],
      "metadata": {
        "nteract": {
          "transient": {
            "deleting": false
          }
        },
        "id": "LqBUVqafj80Y"
      }
    },
    {
      "cell_type": "markdown",
      "source": [
        "### 1.1 Installation"
      ],
      "metadata": {
        "nteract": {
          "transient": {
            "deleting": false
          }
        },
        "id": "52F_YV_xj80Z"
      }
    },
    {
      "cell_type": "code",
      "source": [
        "!pip install openai==0.28.0 tiktoken datasets session-info --quiet"
      ],
      "outputs": [
        {
          "output_type": "stream",
          "name": "stdout",
          "text": [
            "\u001b[2K     \u001b[90m━━━━━━━━━━━━━━━━━━━━━━━━━━━━━━━━━━━━━━━━\u001b[0m \u001b[32m76.5/76.5 kB\u001b[0m \u001b[31m1.2 MB/s\u001b[0m eta \u001b[36m0:00:00\u001b[0m\n",
            "\u001b[2K     \u001b[90m━━━━━━━━━━━━━━━━━━━━━━━━━━━━━━━━━━━━━━━━\u001b[0m \u001b[32m2.0/2.0 MB\u001b[0m \u001b[31m8.3 MB/s\u001b[0m eta \u001b[36m0:00:00\u001b[0m\n",
            "\u001b[2K     \u001b[90m━━━━━━━━━━━━━━━━━━━━━━━━━━━━━━━━━━━━━━━━\u001b[0m \u001b[32m507.1/507.1 kB\u001b[0m \u001b[31m12.5 MB/s\u001b[0m eta \u001b[36m0:00:00\u001b[0m\n",
            "\u001b[?25h  Preparing metadata (setup.py) ... \u001b[?25l\u001b[?25hdone\n",
            "\u001b[2K     \u001b[90m━━━━━━━━━━━━━━━━━━━━━━━━━━━━━━━━━━━━━━━━\u001b[0m \u001b[32m115.3/115.3 kB\u001b[0m \u001b[31m5.3 MB/s\u001b[0m eta \u001b[36m0:00:00\u001b[0m\n",
            "\u001b[2K     \u001b[90m━━━━━━━━━━━━━━━━━━━━━━━━━━━━━━━━━━━━━━━━\u001b[0m \u001b[32m134.8/134.8 kB\u001b[0m \u001b[31m2.7 MB/s\u001b[0m eta \u001b[36m0:00:00\u001b[0m\n",
            "\u001b[2K     \u001b[90m━━━━━━━━━━━━━━━━━━━━━━━━━━━━━━━━━━━━━━━━\u001b[0m \u001b[32m79.8/79.8 kB\u001b[0m \u001b[31m3.6 MB/s\u001b[0m eta \u001b[36m0:00:00\u001b[0m\n",
            "\u001b[?25h  Building wheel for session-info (setup.py) ... \u001b[?25l\u001b[?25hdone\n",
            "\u001b[31mERROR: pip's dependency resolver does not currently take into account all the packages that are installed. This behaviour is the source of the following dependency conflicts.\n",
            "llmx 0.0.15a0 requires cohere, which is not installed.\u001b[0m\u001b[31m\n",
            "\u001b[0m"
          ]
        }
      ],
      "execution_count": 1,
      "metadata": {
        "jupyter": {
          "source_hidden": false,
          "outputs_hidden": false
        },
        "nteract": {
          "transient": {
            "deleting": false
          }
        },
        "id": "Bvp7cLujj80Z",
        "colab": {
          "base_uri": "https://localhost:8080/"
        },
        "outputId": "731d2e13-fdd1-4eab-a75d-5e88f526cbd9"
      }
    },
    {
      "cell_type": "markdown",
      "source": [
        "### 1.2 Imports\n",
        "\n",
        "1. Import all Python packages required to access the Azure Open AI API.\n",
        "2. Import additional packages required to access datasets and create examples."
      ],
      "metadata": {
        "nteract": {
          "transient": {
            "deleting": false
          }
        },
        "id": "gHyB6hBtj80b"
      }
    },
    {
      "cell_type": "code",
      "source": [
        "# Import all Python packages required to access the Azure Open AI API.\n",
        "# Import additional packages required to access datasets and create examples.\n",
        "\n",
        "import openai\n",
        "import json\n",
        "import random\n",
        "import tiktoken\n",
        "import session_info\n",
        "\n",
        "import pandas as pd\n",
        "import numpy as np\n",
        "\n",
        "\n",
        "# Additional packages\n",
        "from datasets import load_dataset\n",
        "from collections import Counter\n",
        "from tqdm import tqdm\n",
        "from sklearn.model_selection import train_test_split\n",
        "from sklearn.metrics import f1_score"
      ],
      "outputs": [],
      "execution_count": 2,
      "metadata": {
        "jupyter": {
          "source_hidden": false,
          "outputs_hidden": false
        },
        "nteract": {
          "transient": {
            "deleting": false
          }
        },
        "id": "nX2_-Htrj80d"
      }
    },
    {
      "cell_type": "markdown",
      "source": [
        "### 1.3 Authentication"
      ],
      "metadata": {
        "nteract": {
          "transient": {
            "deleting": false
          }
        },
        "id": "05GGwI85j80e"
      }
    },
    {
      "cell_type": "code",
      "source": [
        "with open('config.json', 'r') as az_creds:\n",
        "    data = az_creds.read()"
      ],
      "outputs": [],
      "execution_count": 4,
      "metadata": {
        "jupyter": {
          "source_hidden": false,
          "outputs_hidden": false
        },
        "nteract": {
          "transient": {
            "deleting": false
          }
        },
        "id": "sP6fplnCj80e"
      }
    },
    {
      "cell_type": "code",
      "source": [
        "creds = json.loads(data)"
      ],
      "outputs": [],
      "execution_count": 5,
      "metadata": {
        "jupyter": {
          "source_hidden": false,
          "outputs_hidden": false
        },
        "nteract": {
          "transient": {
            "deleting": false
          }
        },
        "id": "yaEJ640Gj80f"
      }
    },
    {
      "cell_type": "code",
      "source": [
        "openai.api_key = creds[\"AZURE_OPENAI_KEY\"]\n",
        "openai.api_base = creds[\"AZURE_OPENAI_ENDPOINT\"]\n",
        "openai.api_type = creds[\"AZURE_OPENAI_APITYPE\"]\n",
        "openai.api_version = creds[\"AZURE_OPENAI_APIVERSION\"]"
      ],
      "outputs": [],
      "execution_count": 6,
      "metadata": {
        "jupyter": {
          "source_hidden": false,
          "outputs_hidden": false
        },
        "nteract": {
          "transient": {
            "deleting": false
          }
        },
        "id": "va_CfAgpj80f"
      }
    },
    {
      "cell_type": "code",
      "source": [
        "chat_model_id = creds[\"CHATGPT_MODEL\"]"
      ],
      "outputs": [],
      "execution_count": 7,
      "metadata": {
        "jupyter": {
          "source_hidden": false,
          "outputs_hidden": false
        },
        "nteract": {
          "transient": {
            "deleting": false
          }
        },
        "id": "4WYsD6lqj80g"
      }
    },
    {
      "cell_type": "code",
      "source": [
        "chat_model_id"
      ],
      "metadata": {
        "colab": {
          "base_uri": "https://localhost:8080/",
          "height": 56
        },
        "id": "RVX8rLYxlC8A",
        "outputId": "1c379bb7-b7c7-4ee8-d036-26636b0744d8"
      },
      "execution_count": 8,
      "outputs": [
        {
          "output_type": "execute_result",
          "data": {
            "text/plain": [
              "'gen-ai-gpt35-ap'"
            ],
            "application/vnd.google.colaboratory.intrinsic+json": {
              "type": "string"
            }
          },
          "metadata": {},
          "execution_count": 8
        }
      ]
    },
    {
      "cell_type": "markdown",
      "source": [
        "### 1.4 Utilities\n",
        "\n",
        "Define token counter to keep track of the completion window available in the prompt."
      ],
      "metadata": {
        "nteract": {
          "transient": {
            "deleting": false
          }
        },
        "id": "hBlMLbdrj80g"
      }
    },
    {
      "cell_type": "code",
      "source": [
        "# Writing a function to keep track of the token count for the LLM model\n",
        "def num_tokens_from_messages(messages):\n",
        "  encoding = tiktoken.encoding_for_model(\"gpt-3.5-turbo\")\n",
        "\n",
        "  # initiliaze tokens per message as 3\n",
        "  tokens_per_message = 3\n",
        "\n",
        "  # intialize num_tokens to 0\n",
        "  num_tokens = 0\n",
        "\n",
        "  # Loop though messages and appened the token count to num_tokens\n",
        "  for msg in messages:\n",
        "    num_tokens += tokens_per_message\n",
        "    for key, value in msg.items():\n",
        "      num_tokens += len(encoding.encode(value))\n",
        "\n",
        "  # Make sure to account for the reply message\n",
        "  num_tokens += 3\n",
        "\n",
        "  return num_tokens"
      ],
      "outputs": [],
      "execution_count": 9,
      "metadata": {
        "jupyter": {
          "source_hidden": false,
          "outputs_hidden": false
        },
        "nteract": {
          "transient": {
            "deleting": false
          }
        },
        "id": "U4Lt547Nj80h"
      }
    },
    {
      "cell_type": "markdown",
      "source": [
        "# Task: Aspect-Based Sentiment Analysis (ABSA)"
      ],
      "metadata": {
        "nteract": {
          "transient": {
            "deleting": false
          }
        },
        "id": "aNN-KP77j80h"
      }
    },
    {
      "cell_type": "markdown",
      "source": [
        "### Step 1: Define objectives & Metrics\n",
        "\n",
        "To evaluate model performance, we judge the accuracy of the aspects + sentiment assignnment per aspect.For example, if aspects identified by the LLM do not match the ground truth for a specific input, we count this prediction to be incorrect. A correct prediction is one where all the aspects are correctly idenfied and further the sentiment assignment for each aspect is also correctly identified"
      ],
      "metadata": {
        "nteract": {
          "transient": {
            "deleting": false
          }
        },
        "id": "fHO3OL2Dj80i"
      }
    },
    {
      "cell_type": "code",
      "source": [
        "# Function to compute accuracy\n",
        "# Params: gold_examples, model_predictions, ground_truths\n",
        "\n",
        "def compute_accuracy(gold_examples, model_predictions, ground_truths):\n",
        "    # Initialize variables to keep track of correct and total predictions\n",
        "    correct_predictions = 0\n",
        "    total_predictions = len(gold_examples)\n",
        "\n",
        "    # Iterate through each prediction and ground truth pair\n",
        "    for pred, truth in zip(model_predictions, ground_truths):\n",
        "        if pred == truth:\n",
        "            correct_predictions += 1\n",
        "\n",
        "    # Calculate accuracy as the ratio of correct predictions to total predictions\n",
        "    accuracy = correct_predictions / total_predictions\n",
        "\n",
        "    return accuracy"
      ],
      "outputs": [],
      "execution_count": 10,
      "metadata": {
        "jupyter": {
          "source_hidden": false,
          "outputs_hidden": false
        },
        "nteract": {
          "transient": {
            "deleting": false
          }
        },
        "id": "cillaN5sj80j"
      }
    },
    {
      "cell_type": "markdown",
      "source": [
        "### Step 2: Assemble Data\n",
        "\n",
        "1. Use \"laptop_review.csv\" dataset.\n",
        "2. Identify distribution of aspects in examples.\n",
        "3. Identify distribution of aspects in gold examples."
      ],
      "metadata": {
        "nteract": {
          "transient": {
            "deleting": false
          }
        },
        "id": "RM18fY8Ej80j"
      }
    },
    {
      "cell_type": "code",
      "source": [
        "df = pd.read_csv(\"laptop_reviews.csv\")\n",
        "df[\"category\"] = df[\"category\"].str.replace(\"'\", '\"').str.replace(\"array(\", \"\", regex=False).str.replace(\",dtype=object)\", \"\", regex=False).str.replace(\",dtype=int16)\", \"\", regex=False).str.lower()\n",
        "df[\"category\"] = df[\"category\"].apply(json.loads)"
      ],
      "outputs": [],
      "execution_count": 11,
      "metadata": {
        "jupyter": {
          "source_hidden": false,
          "outputs_hidden": false
        },
        "nteract": {
          "transient": {
            "deleting": false
          }
        },
        "id": "ji7OGYsrj80k"
      }
    },
    {
      "cell_type": "code",
      "source": [
        "# Test\n",
        "df.head(4)"
      ],
      "metadata": {
        "colab": {
          "base_uri": "https://localhost:8080/",
          "height": 191
        },
        "id": "9LOPnFImFC2Y",
        "outputId": "6f706949-071f-4f2b-dcf9-71e9b3fede7c"
      },
      "execution_count": 12,
      "outputs": [
        {
          "output_type": "execute_result",
          "data": {
            "text/plain": [
              "   id                                               text  \\\n",
              "0   1             The RAM is good. The design is decent.   \n",
              "1   2  The screen is amazing. The design is impressiv...   \n",
              "2   3  The GPU is adequate. The camera is average. Th...   \n",
              "3   4  The RAM is terrible. The battery is fair. The ...   \n",
              "\n",
              "                                             aspects  \\\n",
              "0  {'term':array(['RAM','design'],dtype=object),'...   \n",
              "1  {'term':array(['screen','design','mousepad'],d...   \n",
              "2  {'term':array(['GPU','camera','software','keyb...   \n",
              "3  {'term':array(['RAM','battery','design'],dtype...   \n",
              "\n",
              "                                            category  \n",
              "0  {'category': ['ram', 'design'], 'polarity': ['...  \n",
              "1  {'category': ['screen', 'design', 'mousepad'],...  \n",
              "2  {'category': ['gpu', 'camera', 'software', 'ke...  \n",
              "3  {'category': ['ram', 'battery', 'design'], 'po...  "
            ],
            "text/html": [
              "\n",
              "  <div id=\"df-c994a72d-5b95-4a46-8c09-09cd7e6ea692\" class=\"colab-df-container\">\n",
              "    <div>\n",
              "<style scoped>\n",
              "    .dataframe tbody tr th:only-of-type {\n",
              "        vertical-align: middle;\n",
              "    }\n",
              "\n",
              "    .dataframe tbody tr th {\n",
              "        vertical-align: top;\n",
              "    }\n",
              "\n",
              "    .dataframe thead th {\n",
              "        text-align: right;\n",
              "    }\n",
              "</style>\n",
              "<table border=\"1\" class=\"dataframe\">\n",
              "  <thead>\n",
              "    <tr style=\"text-align: right;\">\n",
              "      <th></th>\n",
              "      <th>id</th>\n",
              "      <th>text</th>\n",
              "      <th>aspects</th>\n",
              "      <th>category</th>\n",
              "    </tr>\n",
              "  </thead>\n",
              "  <tbody>\n",
              "    <tr>\n",
              "      <th>0</th>\n",
              "      <td>1</td>\n",
              "      <td>The RAM is good. The design is decent.</td>\n",
              "      <td>{'term':array(['RAM','design'],dtype=object),'...</td>\n",
              "      <td>{'category': ['ram', 'design'], 'polarity': ['...</td>\n",
              "    </tr>\n",
              "    <tr>\n",
              "      <th>1</th>\n",
              "      <td>2</td>\n",
              "      <td>The screen is amazing. The design is impressiv...</td>\n",
              "      <td>{'term':array(['screen','design','mousepad'],d...</td>\n",
              "      <td>{'category': ['screen', 'design', 'mousepad'],...</td>\n",
              "    </tr>\n",
              "    <tr>\n",
              "      <th>2</th>\n",
              "      <td>3</td>\n",
              "      <td>The GPU is adequate. The camera is average. Th...</td>\n",
              "      <td>{'term':array(['GPU','camera','software','keyb...</td>\n",
              "      <td>{'category': ['gpu', 'camera', 'software', 'ke...</td>\n",
              "    </tr>\n",
              "    <tr>\n",
              "      <th>3</th>\n",
              "      <td>4</td>\n",
              "      <td>The RAM is terrible. The battery is fair. The ...</td>\n",
              "      <td>{'term':array(['RAM','battery','design'],dtype...</td>\n",
              "      <td>{'category': ['ram', 'battery', 'design'], 'po...</td>\n",
              "    </tr>\n",
              "  </tbody>\n",
              "</table>\n",
              "</div>\n",
              "    <div class=\"colab-df-buttons\">\n",
              "\n",
              "  <div class=\"colab-df-container\">\n",
              "    <button class=\"colab-df-convert\" onclick=\"convertToInteractive('df-c994a72d-5b95-4a46-8c09-09cd7e6ea692')\"\n",
              "            title=\"Convert this dataframe to an interactive table.\"\n",
              "            style=\"display:none;\">\n",
              "\n",
              "  <svg xmlns=\"http://www.w3.org/2000/svg\" height=\"24px\" viewBox=\"0 -960 960 960\">\n",
              "    <path d=\"M120-120v-720h720v720H120Zm60-500h600v-160H180v160Zm220 220h160v-160H400v160Zm0 220h160v-160H400v160ZM180-400h160v-160H180v160Zm440 0h160v-160H620v160ZM180-180h160v-160H180v160Zm440 0h160v-160H620v160Z\"/>\n",
              "  </svg>\n",
              "    </button>\n",
              "\n",
              "  <style>\n",
              "    .colab-df-container {\n",
              "      display:flex;\n",
              "      gap: 12px;\n",
              "    }\n",
              "\n",
              "    .colab-df-convert {\n",
              "      background-color: #E8F0FE;\n",
              "      border: none;\n",
              "      border-radius: 50%;\n",
              "      cursor: pointer;\n",
              "      display: none;\n",
              "      fill: #1967D2;\n",
              "      height: 32px;\n",
              "      padding: 0 0 0 0;\n",
              "      width: 32px;\n",
              "    }\n",
              "\n",
              "    .colab-df-convert:hover {\n",
              "      background-color: #E2EBFA;\n",
              "      box-shadow: 0px 1px 2px rgba(60, 64, 67, 0.3), 0px 1px 3px 1px rgba(60, 64, 67, 0.15);\n",
              "      fill: #174EA6;\n",
              "    }\n",
              "\n",
              "    .colab-df-buttons div {\n",
              "      margin-bottom: 4px;\n",
              "    }\n",
              "\n",
              "    [theme=dark] .colab-df-convert {\n",
              "      background-color: #3B4455;\n",
              "      fill: #D2E3FC;\n",
              "    }\n",
              "\n",
              "    [theme=dark] .colab-df-convert:hover {\n",
              "      background-color: #434B5C;\n",
              "      box-shadow: 0px 1px 3px 1px rgba(0, 0, 0, 0.15);\n",
              "      filter: drop-shadow(0px 1px 2px rgba(0, 0, 0, 0.3));\n",
              "      fill: #FFFFFF;\n",
              "    }\n",
              "  </style>\n",
              "\n",
              "    <script>\n",
              "      const buttonEl =\n",
              "        document.querySelector('#df-c994a72d-5b95-4a46-8c09-09cd7e6ea692 button.colab-df-convert');\n",
              "      buttonEl.style.display =\n",
              "        google.colab.kernel.accessAllowed ? 'block' : 'none';\n",
              "\n",
              "      async function convertToInteractive(key) {\n",
              "        const element = document.querySelector('#df-c994a72d-5b95-4a46-8c09-09cd7e6ea692');\n",
              "        const dataTable =\n",
              "          await google.colab.kernel.invokeFunction('convertToInteractive',\n",
              "                                                    [key], {});\n",
              "        if (!dataTable) return;\n",
              "\n",
              "        const docLinkHtml = 'Like what you see? Visit the ' +\n",
              "          '<a target=\"_blank\" href=https://colab.research.google.com/notebooks/data_table.ipynb>data table notebook</a>'\n",
              "          + ' to learn more about interactive tables.';\n",
              "        element.innerHTML = '';\n",
              "        dataTable['output_type'] = 'display_data';\n",
              "        await google.colab.output.renderOutput(dataTable, element);\n",
              "        const docLink = document.createElement('div');\n",
              "        docLink.innerHTML = docLinkHtml;\n",
              "        element.appendChild(docLink);\n",
              "      }\n",
              "    </script>\n",
              "  </div>\n",
              "\n",
              "\n",
              "<div id=\"df-64803167-302b-4c2f-8dcb-ad72e1967691\">\n",
              "  <button class=\"colab-df-quickchart\" onclick=\"quickchart('df-64803167-302b-4c2f-8dcb-ad72e1967691')\"\n",
              "            title=\"Suggest charts\"\n",
              "            style=\"display:none;\">\n",
              "\n",
              "<svg xmlns=\"http://www.w3.org/2000/svg\" height=\"24px\"viewBox=\"0 0 24 24\"\n",
              "     width=\"24px\">\n",
              "    <g>\n",
              "        <path d=\"M19 3H5c-1.1 0-2 .9-2 2v14c0 1.1.9 2 2 2h14c1.1 0 2-.9 2-2V5c0-1.1-.9-2-2-2zM9 17H7v-7h2v7zm4 0h-2V7h2v10zm4 0h-2v-4h2v4z\"/>\n",
              "    </g>\n",
              "</svg>\n",
              "  </button>\n",
              "\n",
              "<style>\n",
              "  .colab-df-quickchart {\n",
              "      --bg-color: #E8F0FE;\n",
              "      --fill-color: #1967D2;\n",
              "      --hover-bg-color: #E2EBFA;\n",
              "      --hover-fill-color: #174EA6;\n",
              "      --disabled-fill-color: #AAA;\n",
              "      --disabled-bg-color: #DDD;\n",
              "  }\n",
              "\n",
              "  [theme=dark] .colab-df-quickchart {\n",
              "      --bg-color: #3B4455;\n",
              "      --fill-color: #D2E3FC;\n",
              "      --hover-bg-color: #434B5C;\n",
              "      --hover-fill-color: #FFFFFF;\n",
              "      --disabled-bg-color: #3B4455;\n",
              "      --disabled-fill-color: #666;\n",
              "  }\n",
              "\n",
              "  .colab-df-quickchart {\n",
              "    background-color: var(--bg-color);\n",
              "    border: none;\n",
              "    border-radius: 50%;\n",
              "    cursor: pointer;\n",
              "    display: none;\n",
              "    fill: var(--fill-color);\n",
              "    height: 32px;\n",
              "    padding: 0;\n",
              "    width: 32px;\n",
              "  }\n",
              "\n",
              "  .colab-df-quickchart:hover {\n",
              "    background-color: var(--hover-bg-color);\n",
              "    box-shadow: 0 1px 2px rgba(60, 64, 67, 0.3), 0 1px 3px 1px rgba(60, 64, 67, 0.15);\n",
              "    fill: var(--button-hover-fill-color);\n",
              "  }\n",
              "\n",
              "  .colab-df-quickchart-complete:disabled,\n",
              "  .colab-df-quickchart-complete:disabled:hover {\n",
              "    background-color: var(--disabled-bg-color);\n",
              "    fill: var(--disabled-fill-color);\n",
              "    box-shadow: none;\n",
              "  }\n",
              "\n",
              "  .colab-df-spinner {\n",
              "    border: 2px solid var(--fill-color);\n",
              "    border-color: transparent;\n",
              "    border-bottom-color: var(--fill-color);\n",
              "    animation:\n",
              "      spin 1s steps(1) infinite;\n",
              "  }\n",
              "\n",
              "  @keyframes spin {\n",
              "    0% {\n",
              "      border-color: transparent;\n",
              "      border-bottom-color: var(--fill-color);\n",
              "      border-left-color: var(--fill-color);\n",
              "    }\n",
              "    20% {\n",
              "      border-color: transparent;\n",
              "      border-left-color: var(--fill-color);\n",
              "      border-top-color: var(--fill-color);\n",
              "    }\n",
              "    30% {\n",
              "      border-color: transparent;\n",
              "      border-left-color: var(--fill-color);\n",
              "      border-top-color: var(--fill-color);\n",
              "      border-right-color: var(--fill-color);\n",
              "    }\n",
              "    40% {\n",
              "      border-color: transparent;\n",
              "      border-right-color: var(--fill-color);\n",
              "      border-top-color: var(--fill-color);\n",
              "    }\n",
              "    60% {\n",
              "      border-color: transparent;\n",
              "      border-right-color: var(--fill-color);\n",
              "    }\n",
              "    80% {\n",
              "      border-color: transparent;\n",
              "      border-right-color: var(--fill-color);\n",
              "      border-bottom-color: var(--fill-color);\n",
              "    }\n",
              "    90% {\n",
              "      border-color: transparent;\n",
              "      border-bottom-color: var(--fill-color);\n",
              "    }\n",
              "  }\n",
              "</style>\n",
              "\n",
              "  <script>\n",
              "    async function quickchart(key) {\n",
              "      const quickchartButtonEl =\n",
              "        document.querySelector('#' + key + ' button');\n",
              "      quickchartButtonEl.disabled = true;  // To prevent multiple clicks.\n",
              "      quickchartButtonEl.classList.add('colab-df-spinner');\n",
              "      try {\n",
              "        const charts = await google.colab.kernel.invokeFunction(\n",
              "            'suggestCharts', [key], {});\n",
              "      } catch (error) {\n",
              "        console.error('Error during call to suggestCharts:', error);\n",
              "      }\n",
              "      quickchartButtonEl.classList.remove('colab-df-spinner');\n",
              "      quickchartButtonEl.classList.add('colab-df-quickchart-complete');\n",
              "    }\n",
              "    (() => {\n",
              "      let quickchartButtonEl =\n",
              "        document.querySelector('#df-64803167-302b-4c2f-8dcb-ad72e1967691 button');\n",
              "      quickchartButtonEl.style.display =\n",
              "        google.colab.kernel.accessAllowed ? 'block' : 'none';\n",
              "    })();\n",
              "  </script>\n",
              "</div>\n",
              "\n",
              "    </div>\n",
              "  </div>\n"
            ]
          },
          "metadata": {},
          "execution_count": 12
        }
      ]
    },
    {
      "cell_type": "code",
      "source": [
        "# sample the full dataset first\n",
        "laptop_reviews_examples_df, laptop_reviews_gold_examples_df = train_test_split(\n",
        "    df, #<- the full dataset\n",
        "    test_size=0.2, #<- 20% random sample selected for gold examples\n",
        "    random_state=100 #<- ensures that the splits are the same for every session\n",
        ")"
      ],
      "metadata": {
        "id": "0K_1lFuy1cjs"
      },
      "execution_count": 13,
      "outputs": []
    },
    {
      "cell_type": "code",
      "source": [
        "# Check sampling\n",
        "laptop_reviews_examples_df.shape"
      ],
      "metadata": {
        "colab": {
          "base_uri": "https://localhost:8080/"
        },
        "id": "ZsaspTP4zqe_",
        "outputId": "ce4d5d8f-b8db-4fc1-a529-f4c7ffdb037c"
      },
      "execution_count": 14,
      "outputs": [
        {
          "output_type": "execute_result",
          "data": {
            "text/plain": [
              "(80, 4)"
            ]
          },
          "metadata": {},
          "execution_count": 14
        }
      ]
    },
    {
      "cell_type": "code",
      "source": [
        "# Check gold sampling\n",
        "laptop_reviews_gold_examples_df.shape"
      ],
      "metadata": {
        "colab": {
          "base_uri": "https://localhost:8080/"
        },
        "id": "Bp0GKcTlzxX8",
        "outputId": "42689f94-d179-4a67-edcd-0895e63193a4"
      },
      "execution_count": 15,
      "outputs": [
        {
          "output_type": "execute_result",
          "data": {
            "text/plain": [
              "(20, 4)"
            ]
          },
          "metadata": {},
          "execution_count": 15
        }
      ]
    },
    {
      "cell_type": "markdown",
      "source": [
        "create a lookup index with each of the aspects as keys and a list of all reviews that are annotated with the aspect as the value\n"
      ],
      "metadata": {
        "id": "yTtAwLJy5xVL"
      }
    },
    {
      "cell_type": "code",
      "source": [
        "examples_aspect_index = {\n",
        "    'mousepad': [],\n",
        "    'keyboard':[],\n",
        "    'screen':[]\n",
        "}\n",
        "\n",
        "gold_examples_aspect_index = {\n",
        "    'mousepad': [],\n",
        "    'keyboard':[],\n",
        "    'screen':[]\n",
        "}"
      ],
      "metadata": {
        "id": "wkCj1Ini1dbt"
      },
      "execution_count": 16,
      "outputs": []
    },
    {
      "cell_type": "markdown",
      "source": [
        "# Distribution of aspects in examples"
      ],
      "metadata": {
        "id": "yQ3ErjG38i-n"
      }
    },
    {
      "cell_type": "code",
      "source": [
        "# loop over the categories and then map the id to the corresponding aspect\n",
        "for id, category in zip(laptop_reviews_examples_df.id, laptop_reviews_examples_df.category):\n",
        "  for key in examples_aspect_index.keys():\n",
        "    if key in category['category']:\n",
        "      examples_aspect_index[key].append(id)"
      ],
      "metadata": {
        "id": "3Mfj7DpY6cS7"
      },
      "execution_count": 17,
      "outputs": []
    },
    {
      "cell_type": "code",
      "source": [
        "for key in examples_aspect_index:\n",
        "  print(f\"Number of examples for aspect {key}: {len(examples_aspect_index[key])}\")"
      ],
      "metadata": {
        "colab": {
          "base_uri": "https://localhost:8080/"
        },
        "id": "cTmaddXy6c5r",
        "outputId": "a796d1ad-1229-4855-80cf-312e35004b49"
      },
      "execution_count": 18,
      "outputs": [
        {
          "output_type": "stream",
          "name": "stdout",
          "text": [
            "Number of examples for aspect mousepad: 35\n",
            "Number of examples for aspect keyboard: 26\n",
            "Number of examples for aspect screen: 23\n"
          ]
        }
      ]
    },
    {
      "cell_type": "markdown",
      "source": [
        "# Distribution aspects in gold examples"
      ],
      "metadata": {
        "id": "rD6o3ipbDO5q"
      }
    },
    {
      "cell_type": "code",
      "source": [
        "# loop over the categories and then add the id to the corresponding aspect\n",
        "for id, category in zip(laptop_reviews_gold_examples_df.id,\n",
        "                        laptop_reviews_gold_examples_df.category):\n",
        "  for key in gold_examples_aspect_index.keys():\n",
        "    if key in category['category']:\n",
        "      gold_examples_aspect_index[key].append(id)"
      ],
      "metadata": {
        "id": "b4mBqV4p6dE3"
      },
      "execution_count": 19,
      "outputs": []
    },
    {
      "cell_type": "code",
      "source": [
        "for key in gold_examples_aspect_index:\n",
        "  print(f\"Number of examples for aspect {key}: {len(gold_examples_aspect_index[key])}\")"
      ],
      "metadata": {
        "colab": {
          "base_uri": "https://localhost:8080/"
        },
        "id": "6Wl_sMoGEHDB",
        "outputId": "9654efca-f274-41bf-e1b5-d3a83324be01"
      },
      "execution_count": 20,
      "outputs": [
        {
          "output_type": "stream",
          "name": "stdout",
          "text": [
            "Number of examples for aspect mousepad: 7\n",
            "Number of examples for aspect keyboard: 5\n",
            "Number of examples for aspect screen: 11\n"
          ]
        }
      ]
    },
    {
      "cell_type": "markdown",
      "source": [
        "# Sample the columns and insert it into gold_examples"
      ],
      "metadata": {
        "id": "m7BCbEstFTMw"
      }
    },
    {
      "cell_type": "code",
      "source": [
        "# pick columns to sample into the gold_examples\n",
        "columns_selected = ['id', 'text', 'category']"
      ],
      "metadata": {
        "id": "WIkohUldFHIh"
      },
      "execution_count": 21,
      "outputs": []
    },
    {
      "cell_type": "code",
      "source": [
        "gold_examples = json.loads((\n",
        "    laptop_reviews_gold_examples_df.loc[:, columns_selected]\n",
        "                                    .sample(5, random_state=100)\n",
        "                                    .to_json(orient='records')\n",
        "))"
      ],
      "metadata": {
        "id": "dxF_W4ZvFXlJ"
      },
      "execution_count": 22,
      "outputs": []
    },
    {
      "cell_type": "code",
      "source": [
        "# Test\n",
        "gold_examples[0]"
      ],
      "metadata": {
        "colab": {
          "base_uri": "https://localhost:8080/"
        },
        "id": "X51ywuDHF8HY",
        "outputId": "4c9f2549-14b9-4e75-b469-0a94c184a495"
      },
      "execution_count": 23,
      "outputs": [
        {
          "output_type": "execute_result",
          "data": {
            "text/plain": [
              "{'id': 6,\n",
              " 'text': 'The battery is poor. The camera is average. The GPU is fair. The screen is terrible.',\n",
              " 'category': {'category': ['battery', 'camera', 'gpu', 'screen'],\n",
              "  'polarity': ['negative', 'neutral', 'neutral', 'negative']}}"
            ]
          },
          "metadata": {},
          "execution_count": 23
        }
      ]
    },
    {
      "cell_type": "markdown",
      "source": [
        "### Step 3: Derive Prompt"
      ],
      "metadata": {
        "nteract": {
          "transient": {
            "deleting": false
          }
        },
        "id": "zEl8h9Dpj80l"
      }
    },
    {
      "cell_type": "markdown",
      "source": [
        "#### Create prompts"
      ],
      "metadata": {
        "nteract": {
          "transient": {
            "deleting": false
          }
        },
        "id": "RxT75VbTj80m"
      }
    },
    {
      "cell_type": "markdown",
      "source": [
        "# Generate a User message template"
      ],
      "metadata": {
        "id": "Utjddlv8U99Z"
      }
    },
    {
      "cell_type": "code",
      "source": [
        "user_message_template = \"\"\"```{customer_review}```\"\"\""
      ],
      "metadata": {
        "id": "wfSO58lsU9cO"
      },
      "execution_count": 24,
      "outputs": []
    },
    {
      "cell_type": "markdown",
      "source": [
        "**1. Zero-shot prompt**"
      ],
      "metadata": {
        "nteract": {
          "transient": {
            "deleting": false
          }
        },
        "id": "iesVWwYVj80n"
      }
    },
    {
      "cell_type": "code",
      "source": [
        "zero_shot_system_message = \"\"\"\n",
        "You are an AI assisstant who is tasked to perform aspect based sentiment analysis of customer reviews for InnovaTech’s products presented as input delimited by triple backticks ```.\n",
        "Each review contains following aspects like: hardware, mousepad, design, RAM, keyboard, screen, camera, battery, software, GPU\n",
        "\n",
        "For each review presented as input:\n",
        "- Identify if there are any of the 3 aspects (mousepad, keyboard, screen) mentioned in the review.\n",
        "- Assign a sentiment polarity (positive, negative or neutral) for each aspect\n",
        "\n",
        "Arrange your response as a JSON object with the following format:\n",
        "{\n",
        "  \"category\":[list of aspects],\n",
        "  \"polarity\":[list of corresponding polarities for each aspect]\n",
        "}\n",
        "\"\"\""
      ],
      "outputs": [],
      "execution_count": 25,
      "metadata": {
        "jupyter": {
          "source_hidden": false,
          "outputs_hidden": false
        },
        "nteract": {
          "transient": {
            "deleting": false
          }
        },
        "id": "CAG-8rjZj80p"
      }
    },
    {
      "cell_type": "code",
      "source": [
        "zero_shot_prompt = [{'role':'system', 'content':zero_shot_system_message}]"
      ],
      "metadata": {
        "id": "f6e-1__4S6mW"
      },
      "execution_count": 26,
      "outputs": []
    },
    {
      "cell_type": "code",
      "source": [
        "# get the token value from the prompt\n",
        "num_tokens_from_messages(zero_shot_prompt)"
      ],
      "metadata": {
        "colab": {
          "base_uri": "https://localhost:8080/"
        },
        "id": "LHOVXV0dS_XF",
        "outputId": "17c4e31d-f511-4bad-830c-1e1d27297b26"
      },
      "execution_count": 27,
      "outputs": [
        {
          "output_type": "execute_result",
          "data": {
            "text/plain": [
              "154"
            ]
          },
          "metadata": {},
          "execution_count": 27
        }
      ]
    },
    {
      "cell_type": "markdown",
      "source": [
        "**2.Few-shot prompt**"
      ],
      "metadata": {
        "nteract": {
          "transient": {
            "deleting": false
          }
        },
        "id": "pM0XBjKrj80p"
      }
    },
    {
      "cell_type": "code",
      "source": [
        "few_shot_system_message = \"\"\"\n",
        "You are an AI assisstant who is tasked to perform aspect based sentiment analysis of customer reviews for InnovaTech’s products presented as input delimited by triple backticks ```.\n",
        "Each review contains following aspects like: hardware, mousepad, design, RAM, keyboard, screen, camera, battery, software, GPU\n",
        "\n",
        "For each review presented as input:\n",
        "- Identify if there are any of the 3 aspects (mousepad, keyboard, screen) mentioned in the review.\n",
        "- Assign a sentiment polarity (positive, negative or neutral) for each aspect\n",
        "\n",
        "Arrange your response as a JSON object with the following format:\n",
        "{\n",
        "  \"category\":[list of aspects],\n",
        "  \"polarity\":[list of corresponding polarities for each aspect]\n",
        "}\n",
        "\"\"\""
      ],
      "outputs": [],
      "execution_count": 28,
      "metadata": {
        "jupyter": {
          "source_hidden": false,
          "outputs_hidden": false
        },
        "nteract": {
          "transient": {
            "deleting": false
          }
        },
        "id": "6J2nEew7j80q"
      }
    },
    {
      "cell_type": "markdown",
      "source": [
        "# Assemble examples to go along with few shot message\n",
        "# and create a few shot prompt"
      ],
      "metadata": {
        "id": "icfwog1znmse"
      }
    },
    {
      "cell_type": "code",
      "source": [
        "# Function to create example\n",
        "# The function returns a JSON list with random examples from an input dataset\n",
        "\n",
        "def create_examples(datasets, n=4):\n",
        "  columns_to_select = ['id', 'text', 'category']\n",
        "\n",
        "  example_ids = []\n",
        "  # create an aspect index dictionary\n",
        "  aspect_index = {\n",
        "    'mousepad': [],\n",
        "    'keyboard':[],\n",
        "    'screen':[]\n",
        "  }\n",
        "  #iterate through the dataset id and category and map the ids\n",
        "  for id, category in zip(datasets.id, datasets.category):\n",
        "    for key in aspect_index.keys():\n",
        "      if key in category['category']:\n",
        "        aspect_index[key].append(id)\n",
        "\n",
        "  # get the distribution aspects\n",
        "  for key in aspect_index:\n",
        "    example_ids.extend(np.random.choice(aspect_index[key], n).tolist())\n",
        "\n",
        "  examples = datasets.loc[datasets.id.isin(example_ids), columns_to_select]\n",
        "\n",
        "  # return the list as json\n",
        "  return examples.to_json(orient='records')\n"
      ],
      "metadata": {
        "id": "HAhXeK-jnzUt"
      },
      "execution_count": 29,
      "outputs": []
    },
    {
      "cell_type": "code",
      "source": [
        "# Test\n",
        "create_examples(laptop_reviews_examples_df)"
      ],
      "metadata": {
        "colab": {
          "base_uri": "https://localhost:8080/",
          "height": 188
        },
        "id": "nO0B-0GE654X",
        "outputId": "39830c27-808b-43b1-b231-8d65e3f1083e"
      },
      "execution_count": 30,
      "outputs": [
        {
          "output_type": "execute_result",
          "data": {
            "text/plain": [
              "'[{\"id\":87,\"text\":\"The software is unpleasant. The keyboard is average. The design is disappointing. The screen is unpleasant.\",\"category\":{\"category\":[\"software\",\"keyboard\",\"design\",\"screen\"],\"polarity\":[\"negative\",\"neutral\",\"negative\",\"negative\"]}},{\"id\":74,\"text\":\"The mousepad is average. The GPU is terrible. The battery is terrible. The RAM is fair.\",\"category\":{\"category\":[\"mousepad\",\"gpu\",\"battery\",\"ram\"],\"polarity\":[\"neutral\",\"negative\",\"negative\",\"neutral\"]}},{\"id\":45,\"text\":\"The RAM is fair. The GPU is good. The screen is amazing.\",\"category\":{\"category\":[\"ram\",\"gpu\",\"screen\"],\"polarity\":[\"neutral\",\"positive\",\"positive\"]}},{\"id\":46,\"text\":\"The design is adequate. The keyboard is bad.\",\"category\":{\"category\":[\"design\",\"keyboard\"],\"polarity\":[\"neutral\",\"negative\"]}},{\"id\":20,\"text\":\"The screen is adequate. The keyboard is unpleasant. The hardware is fair. The camera is impressive.\",\"category\":{\"category\":[\"screen\",\"keyboard\",\"hardware\",\"camera\"],\"polarity\":[\"neutral\",\"negative\",\"neutral\",\"positive\"]}},{\"id\":90,\"text\":\"The mousepad is adequate. The design is good. The screen is good. The keyboard is standard.\",\"category\":{\"category\":[\"mousepad\",\"design\",\"screen\",\"keyboard\"],\"polarity\":[\"neutral\",\"positive\",\"positive\",\"neutral\"]}},{\"id\":66,\"text\":\"The RAM is unpleasant. The screen is decent. The keyboard is great.\",\"category\":{\"category\":[\"ram\",\"screen\",\"keyboard\"],\"polarity\":[\"negative\",\"neutral\",\"positive\"]}},{\"id\":50,\"text\":\"The mousepad is amazing. The keyboard is standard. The design is impressive.\",\"category\":{\"category\":[\"mousepad\",\"keyboard\",\"design\"],\"polarity\":[\"positive\",\"neutral\",\"positive\"]}},{\"id\":98,\"text\":\"The software is excellent. The mousepad is disappointing. The GPU is disappointing.\",\"category\":{\"category\":[\"software\",\"mousepad\",\"gpu\"],\"polarity\":[\"positive\",\"negative\",\"negative\"]}},{\"id\":32,\"text\":\"The screen is excellent. The GPU is standard. The hardware is fair. The software is impressive.\",\"category\":{\"category\":[\"screen\",\"gpu\",\"hardware\",\"software\"],\"polarity\":[\"positive\",\"neutral\",\"neutral\",\"positive\"]}},{\"id\":54,\"text\":\"The screen is great. The software is bad.\",\"category\":{\"category\":[\"screen\",\"software\"],\"polarity\":[\"positive\",\"negative\"]}},{\"id\":68,\"text\":\"The mousepad is good. The design is adequate. The RAM is bad.\",\"category\":{\"category\":[\"mousepad\",\"design\",\"ram\"],\"polarity\":[\"positive\",\"neutral\",\"negative\"]}}]'"
            ],
            "application/vnd.google.colaboratory.intrinsic+json": {
              "type": "string"
            }
          },
          "metadata": {},
          "execution_count": 30
        }
      ]
    },
    {
      "cell_type": "markdown",
      "source": [
        "# Create the few shot prompt"
      ],
      "metadata": {
        "id": "fJlbXZD672Db"
      }
    },
    {
      "cell_type": "code",
      "source": [
        "# function that creates prompt and returns it as list of dictionaries in OpenAI format\n",
        "\n",
        "def create_prompt(system_message, examples, user_message_template):\n",
        "  # Initiliaze few shot prompt with the system message\n",
        "  few_shot_prompt = [{'role':'system', 'content': system_message}]\n",
        "\n",
        "  # Loop through the examples and then append to few_shot_prompt list\n",
        "  for example in json.loads(examples):\n",
        "    example_input = example['text']\n",
        "    example_absa = example['category']\n",
        "    # append the customer review\n",
        "    few_shot_prompt.append(\n",
        "        {\n",
        "            'role': 'user',\n",
        "            'content': user_message_template.format(\n",
        "                customer_review = example_input)\n",
        "        }\n",
        "    )\n",
        "    # append the LLM analysis\n",
        "    few_shot_prompt.append({'role':'assistant', 'content': f\"{example_absa}\"}\n",
        "    )\n",
        "\n",
        "  return few_shot_prompt"
      ],
      "metadata": {
        "id": "sd2unh5L75jH"
      },
      "execution_count": 31,
      "outputs": []
    },
    {
      "cell_type": "code",
      "source": [
        "examples = create_examples(laptop_reviews_examples_df)\n",
        "few_shot_prompt = create_prompt(few_shot_system_message, examples, user_message_template)"
      ],
      "metadata": {
        "id": "KfU4O8_y_vvh"
      },
      "execution_count": 32,
      "outputs": []
    },
    {
      "cell_type": "code",
      "source": [
        "# Test\n",
        "few_shot_prompt"
      ],
      "metadata": {
        "colab": {
          "base_uri": "https://localhost:8080/"
        },
        "id": "VkjTR-hV73aa",
        "outputId": "d7ac7550-8d76-4e25-dc87-4df0529f936f"
      },
      "execution_count": 33,
      "outputs": [
        {
          "output_type": "execute_result",
          "data": {
            "text/plain": [
              "[{'role': 'system',\n",
              "  'content': '\\nYou are an AI assisstant who is tasked to perform aspect based sentiment analysis of customer reviews for InnovaTech’s products presented as input delimited by triple backticks ```.\\nEach review contains following aspects like: hardware, mousepad, design, RAM, keyboard, screen, camera, battery, software, GPU\\n\\nFor each review presented as input:\\n- Identify if there are any of the 3 aspects (mousepad, keyboard, screen) mentioned in the review.\\n- Assign a sentiment polarity (positive, negative or neutral) for each aspect\\n\\nArrange your response as a JSON object with the following format:\\n{\\n  \"category\":[list of aspects],\\n  \"polarity\":[list of corresponding polarities for each aspect]\\n}\\n'},\n",
              " {'role': 'user',\n",
              "  'content': '```The hardware is good. The screen is impressive. The mousepad is poor. The design is amazing.```'},\n",
              " {'role': 'assistant',\n",
              "  'content': \"{'category': ['hardware', 'screen', 'mousepad', 'design'], 'polarity': ['positive', 'positive', 'negative', 'positive']}\"},\n",
              " {'role': 'user',\n",
              "  'content': '```The software is unpleasant. The keyboard is average. The design is disappointing. The screen is unpleasant.```'},\n",
              " {'role': 'assistant',\n",
              "  'content': \"{'category': ['software', 'keyboard', 'design', 'screen'], 'polarity': ['negative', 'neutral', 'negative', 'negative']}\"},\n",
              " {'role': 'user',\n",
              "  'content': '```The battery is unpleasant. The mousepad is terrible. The hardware is standard.```'},\n",
              " {'role': 'assistant',\n",
              "  'content': \"{'category': ['battery', 'mousepad', 'hardware'], 'polarity': ['negative', 'negative', 'neutral']}\"},\n",
              " {'role': 'user',\n",
              "  'content': '```The mousepad is average. The GPU is terrible. The battery is terrible. The RAM is fair.```'},\n",
              " {'role': 'assistant',\n",
              "  'content': \"{'category': ['mousepad', 'gpu', 'battery', 'ram'], 'polarity': ['neutral', 'negative', 'negative', 'neutral']}\"},\n",
              " {'role': 'user',\n",
              "  'content': '```The mousepad is good. The GPU is fair. The keyboard is good.```'},\n",
              " {'role': 'assistant',\n",
              "  'content': \"{'category': ['mousepad', 'gpu', 'keyboard'], 'polarity': ['positive', 'neutral', 'positive']}\"},\n",
              " {'role': 'user',\n",
              "  'content': '```The GPU is poor. The camera is bad. The software is average. The keyboard is bad.```'},\n",
              " {'role': 'assistant',\n",
              "  'content': \"{'category': ['gpu', 'camera', 'software', 'keyboard'], 'polarity': ['negative', 'negative', 'neutral', 'negative']}\"},\n",
              " {'role': 'user',\n",
              "  'content': '```The screen is unpleasant. The GPU is adequate.```'},\n",
              " {'role': 'assistant',\n",
              "  'content': \"{'category': ['screen', 'gpu'], 'polarity': ['negative', 'neutral']}\"},\n",
              " {'role': 'user',\n",
              "  'content': '```The screen is excellent. The hardware is poor. The battery is excellent.```'},\n",
              " {'role': 'assistant',\n",
              "  'content': \"{'category': ['screen', 'hardware', 'battery'], 'polarity': ['positive', 'negative', 'positive']}\"},\n",
              " {'role': 'user',\n",
              "  'content': '```The screen is adequate. The keyboard is unpleasant. The hardware is fair. The camera is impressive.```'},\n",
              " {'role': 'assistant',\n",
              "  'content': \"{'category': ['screen', 'keyboard', 'hardware', 'camera'], 'polarity': ['neutral', 'negative', 'neutral', 'positive']}\"},\n",
              " {'role': 'user',\n",
              "  'content': '```The screen is excellent. The GPU is standard. The hardware is fair. The software is impressive.```'},\n",
              " {'role': 'assistant',\n",
              "  'content': \"{'category': ['screen', 'gpu', 'hardware', 'software'], 'polarity': ['positive', 'neutral', 'neutral', 'positive']}\"},\n",
              " {'role': 'user',\n",
              "  'content': '```The camera is terrible. The screen is good. The software is adequate. The RAM is amazing.```'},\n",
              " {'role': 'assistant',\n",
              "  'content': \"{'category': ['camera', 'screen', 'software', 'ram'], 'polarity': ['negative', 'positive', 'neutral', 'positive']}\"}]"
            ]
          },
          "metadata": {},
          "execution_count": 33
        }
      ]
    },
    {
      "cell_type": "code",
      "source": [
        "# Test\n",
        "gold_examples"
      ],
      "metadata": {
        "colab": {
          "base_uri": "https://localhost:8080/"
        },
        "id": "pff_5m4f-iPh",
        "outputId": "2a832568-d94c-44f5-d26b-bdd63cd8c9f4"
      },
      "execution_count": 34,
      "outputs": [
        {
          "output_type": "execute_result",
          "data": {
            "text/plain": [
              "[{'id': 6,\n",
              "  'text': 'The battery is poor. The camera is average. The GPU is fair. The screen is terrible.',\n",
              "  'category': {'category': ['battery', 'camera', 'gpu', 'screen'],\n",
              "   'polarity': ['negative', 'neutral', 'neutral', 'negative']}},\n",
              " {'id': 12,\n",
              "  'text': 'The design is terrible. The mousepad is unpleasant. The RAM is poor.',\n",
              "  'category': {'category': ['design', 'mousepad', 'ram'],\n",
              "   'polarity': ['negative', 'negative', 'negative']}},\n",
              " {'id': 51,\n",
              "  'text': 'The camera is terrible. The keyboard is fair. The screen is adequate.',\n",
              "  'category': {'category': ['camera', 'keyboard', 'screen'],\n",
              "   'polarity': ['negative', 'neutral', 'neutral']}},\n",
              " {'id': 41,\n",
              "  'text': 'The GPU is bad. The software is terrible. The battery is great. The RAM is poor.',\n",
              "  'category': {'category': ['gpu', 'software', 'battery', 'ram'],\n",
              "   'polarity': ['negative', 'negative', 'positive', 'negative']}},\n",
              " {'id': 70,\n",
              "  'text': 'The camera is standard. The GPU is great. The hardware is excellent. The screen is good.',\n",
              "  'category': {'category': ['camera', 'gpu', 'hardware', 'screen'],\n",
              "   'polarity': ['neutral', 'positive', 'positive', 'positive']}}]"
            ]
          },
          "metadata": {},
          "execution_count": 34
        }
      ]
    },
    {
      "cell_type": "markdown",
      "source": [
        "#### Evaluate prompts"
      ],
      "metadata": {
        "nteract": {
          "transient": {
            "deleting": false
          }
        },
        "id": "bAd6ausMj80q"
      }
    },
    {
      "cell_type": "markdown",
      "source": [
        "**1. Define Evaluation scorer**"
      ],
      "metadata": {
        "nteract": {
          "transient": {
            "deleting": false
          }
        },
        "id": "bh5yz0dcj80r"
      }
    },
    {
      "cell_type": "code",
      "source": [
        "# Function to evaluate the corresponding prompts\n",
        "def evaluate_prompt(prompt, gold_examples, user_message_template):\n",
        "\n",
        "  model_predictions, ground_truths = [], []\n",
        "\n",
        "  for example in gold_examples:\n",
        "      user_input = [\n",
        "          {\n",
        "              'role':'user',\n",
        "              'content': user_message_template.format(customer_review=example['text'])\n",
        "          }\n",
        "      ]\n",
        "      try:\n",
        "          response = openai.ChatCompletion.create(\n",
        "              deployment_id=chat_model_id,\n",
        "              messages=prompt+user_input,\n",
        "              temperature=0\n",
        "          )\n",
        "\n",
        "          prediction = response['choices'][0]['message']['content'].replace(\"'\", \"\\\"\")\n",
        "\n",
        "          model_predictions.append(json.loads(prediction.strip().lower().replace(\"\\n \", \"\")))\n",
        "          #json.loads(prediction.strip().lower())\n",
        "          ground_truths.append(example['category'])\n",
        "\n",
        "      except Exception as e:\n",
        "          print(\"exception\", e)\n",
        "\n",
        "  accuracy = compute_accuracy(gold_examples, model_predictions, ground_truths)\n",
        "\n",
        "  return accuracy"
      ],
      "outputs": [],
      "execution_count": 46,
      "metadata": {
        "jupyter": {
          "source_hidden": false,
          "outputs_hidden": false
        },
        "nteract": {
          "transient": {
            "deleting": false
          }
        },
        "id": "whav2fhWj80s"
      }
    },
    {
      "cell_type": "markdown",
      "source": [
        "**2. Evaluate zero shot prompt**"
      ],
      "metadata": {
        "nteract": {
          "transient": {
            "deleting": false
          }
        },
        "id": "t64Sgq57j80s"
      }
    },
    {
      "cell_type": "code",
      "source": [
        "# Zero Shot\n",
        "evaluate_prompt(zero_shot_prompt, gold_examples, user_message_template)"
      ],
      "outputs": [
        {
          "output_type": "execute_result",
          "data": {
            "text/plain": [
              "1.0"
            ]
          },
          "metadata": {},
          "execution_count": 47
        }
      ],
      "execution_count": 47,
      "metadata": {
        "jupyter": {
          "source_hidden": false,
          "outputs_hidden": false
        },
        "nteract": {
          "transient": {
            "deleting": false
          }
        },
        "colab": {
          "base_uri": "https://localhost:8080/"
        },
        "id": "yh_Uui2Cj80t",
        "outputId": "a3cc153d-ec24-4c10-bb96-a9d6c710c62c"
      }
    },
    {
      "cell_type": "markdown",
      "source": [
        "**3. Evaluate few shot prompt**"
      ],
      "metadata": {
        "nteract": {
          "transient": {
            "deleting": false
          }
        },
        "id": "c311A95Zj80t"
      }
    },
    {
      "cell_type": "code",
      "source": [
        "# Few Shot\n",
        "evaluate_prompt(few_shot_prompt, gold_examples, user_message_template)"
      ],
      "outputs": [
        {
          "output_type": "execute_result",
          "data": {
            "text/plain": [
              "1.0"
            ]
          },
          "metadata": {},
          "execution_count": 37
        }
      ],
      "execution_count": 37,
      "metadata": {
        "jupyter": {
          "source_hidden": false,
          "outputs_hidden": false
        },
        "nteract": {
          "transient": {
            "deleting": false
          }
        },
        "colab": {
          "base_uri": "https://localhost:8080/"
        },
        "id": "SNUuU0TEj80t",
        "outputId": "e9f890d3-4d16-4dda-a7e0-16fe86dfcd72"
      }
    },
    {
      "cell_type": "markdown",
      "source": [
        "**4. In summary, compute the average (mean) and measure the variability (standard deviation) of the evaluation scores.**"
      ],
      "metadata": {
        "nteract": {
          "transient": {
            "deleting": false
          }
        },
        "id": "3Anzfmlcj80u"
      }
    },
    {
      "cell_type": "code",
      "source": [
        "num_eval_runs = 10"
      ],
      "metadata": {
        "id": "vT6JLrTmJTZH"
      },
      "execution_count": 38,
      "outputs": []
    },
    {
      "cell_type": "code",
      "source": [
        "zero_shot_performance = []\n",
        "few_shot_performance = []"
      ],
      "metadata": {
        "id": "RJoVDnG-JX7N"
      },
      "execution_count": 39,
      "outputs": []
    },
    {
      "cell_type": "code",
      "source": [
        "# Zero Shot\n",
        "for _ in tqdm(range(num_eval_runs)):\n",
        "\n",
        "    # For each run create a new sample of examples\n",
        "    examples = create_examples(laptop_reviews_examples_df)\n",
        "\n",
        "    # Assemble the few shot prompt with these examples\n",
        "    zero_shot_prompt = create_prompt(zero_shot_system_message, examples, user_message_template)\n",
        "    # Evaluate prompt accuracy on gold examples\n",
        "    zero_shot_accuracy = evaluate_prompt(zero_shot_prompt, gold_examples, user_message_template)\n",
        "\n",
        "    zero_shot_performance.append(zero_shot_accuracy)"
      ],
      "metadata": {
        "colab": {
          "base_uri": "https://localhost:8080/"
        },
        "id": "Flf-91RDJe-h",
        "outputId": "01121751-4ee5-40d6-daf0-40cf6e743b6e"
      },
      "execution_count": 48,
      "outputs": [
        {
          "output_type": "stream",
          "name": "stderr",
          "text": [
            "100%|██████████| 10/10 [00:20<00:00,  2.07s/it]\n"
          ]
        }
      ]
    },
    {
      "cell_type": "code",
      "source": [
        "# Few Shot\n",
        "for _ in tqdm(range(num_eval_runs)):\n",
        "\n",
        "    # For each run create a new sample of examples\n",
        "    examples = create_examples(laptop_reviews_examples_df)\n",
        "\n",
        "    # Assemble the few shot prompt with these examples\n",
        "    few_shot_prompt = create_prompt(few_shot_system_message, examples, user_message_template)\n",
        "    # Evaluate prompt accuracy on gold examples\n",
        "    few_shot_accuracy = evaluate_prompt(few_shot_prompt, gold_examples, user_message_template)\n",
        "\n",
        "    few_shot_performance.append(few_shot_accuracy)"
      ],
      "metadata": {
        "colab": {
          "base_uri": "https://localhost:8080/"
        },
        "id": "bKEfu3jWocm0",
        "outputId": "f87a80f8-fae0-4b46-fd81-0b0b1b22dd4e"
      },
      "execution_count": 50,
      "outputs": [
        {
          "output_type": "stream",
          "name": "stderr",
          "text": [
            "100%|██████████| 10/10 [00:20<00:00,  2.06s/it]\n"
          ]
        }
      ]
    },
    {
      "cell_type": "code",
      "source": [
        "# Zero Shot\n",
        "np.array(zero_shot_performance).mean(), np.array(zero_shot_performance).std()"
      ],
      "outputs": [
        {
          "output_type": "execute_result",
          "data": {
            "text/plain": [
              "(0.9800000000000001, 0.05999999999999999)"
            ]
          },
          "metadata": {},
          "execution_count": 49
        }
      ],
      "execution_count": 49,
      "metadata": {
        "jupyter": {
          "source_hidden": false,
          "outputs_hidden": false
        },
        "nteract": {
          "transient": {
            "deleting": false
          }
        },
        "colab": {
          "base_uri": "https://localhost:8080/"
        },
        "id": "RAEqjgSdj80u",
        "outputId": "d777f8b6-aa36-4995-9c92-d4ddc780db0a"
      }
    },
    {
      "cell_type": "code",
      "source": [
        "# Few shot\n",
        "np.array(few_shot_performance).mean(), np.array(few_shot_performance).std()"
      ],
      "outputs": [
        {
          "output_type": "execute_result",
          "data": {
            "text/plain": [
              "(0.99, 0.04358898943540673)"
            ]
          },
          "metadata": {},
          "execution_count": 51
        }
      ],
      "execution_count": 51,
      "metadata": {
        "jupyter": {
          "source_hidden": false,
          "outputs_hidden": false
        },
        "nteract": {
          "transient": {
            "deleting": false
          }
        },
        "colab": {
          "base_uri": "https://localhost:8080/"
        },
        "id": "0YlTNSV4j80u",
        "outputId": "2ca1ced6-461e-4db4-c26f-4ae6ed546b6b"
      }
    },
    {
      "cell_type": "markdown",
      "source": [
        "**----------------------------------------------------------------------------End-----------------------------------------------------------------------------------------**"
      ],
      "metadata": {
        "nteract": {
          "transient": {
            "deleting": false
          }
        },
        "id": "BTESkEgjj80u"
      }
    }
  ],
  "metadata": {
    "kernelspec": {
      "name": "python310-sdkv2",
      "language": "python",
      "display_name": "Python 3.10 - SDK v2"
    },
    "language_info": {
      "name": "python",
      "version": "3.10.11",
      "mimetype": "text/x-python",
      "codemirror_mode": {
        "name": "ipython",
        "version": 3
      },
      "pygments_lexer": "ipython3",
      "nbconvert_exporter": "python",
      "file_extension": ".py"
    },
    "microsoft": {
      "ms_spell_check": {
        "ms_spell_check_language": "en"
      }
    },
    "nteract": {
      "version": "nteract-front-end@1.0.0"
    },
    "kernel_info": {
      "name": "python310-sdkv2"
    },
    "colab": {
      "provenance": [],
      "include_colab_link": true
    }
  },
  "nbformat": 4,
  "nbformat_minor": 0
}